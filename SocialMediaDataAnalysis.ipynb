{
 "cells": [
  {
   "cell_type": "markdown",
   "metadata": {},
   "source": [
    "# Clean & Analyze Social Media"
   ]
  },
  {
   "cell_type": "markdown",
   "metadata": {},
   "source": [
    "## Introduction\n",
    "\n",
    "Social media has become a ubiquitous part of modern life, with platforms such as Instagram, Twitter, and Facebook serving as essential communication channels. Social media data sets are vast and complex, making analysis a challenging task for businesses and researchers alike. In this project, we explore a simulated social media, for example Tweets, data set to understand trends in likes across different categories.\n",
    "\n",
    "## Prerequisites\n",
    "\n",
    "To follow along with this project, you should have a basic understanding of Python programming and data analysis concepts. In addition, you may want to use the following packages in your Python environment:\n",
    "\n",
    "- pandas\n",
    "- Matplotlib\n",
    "- ...\n",
    "\n",
    "These packages should already be installed in Coursera's Jupyter Notebook environment, however if you'd like to install additional packages that are not included in this environment or are working off platform you can install additional packages using `!pip install packagename` within a notebook cell such as:\n",
    "\n",
    "- `!pip install pandas`\n",
    "- `!pip install matplotlib`\n",
    "\n",
    "## Project Scope\n",
    "\n",
    "The objective of this project is to analyze tweets (or other social media data) and gain insights into user engagement. We will explore the data set using visualization techniques to understand the distribution of likes across different categories. Finally, we will analyze the data to draw conclusions about the most popular categories and the overall engagement on the platform.\n",
    "\n",
    "## Step 1: Importing Required Libraries\n",
    "\n",
    "As the name suggests, the first step is to import all the necessary libraries that will be used in the project. In this case, we need pandas, numpy, matplotlib, seaborn, and random libraries.\n",
    "\n",
    "Pandas is a library used for data manipulation and analysis. Numpy is a library used for numerical computations. Matplotlib is a library used for data visualization. Seaborn is a library used for statistical data visualization. Random is a library used to generate random numbers."
   ]
  },
  {
   "cell_type": "code",
   "execution_count": 1,
   "metadata": {},
   "outputs": [],
   "source": [
    "# your code here\n",
    "import pandas as pd\n",
    "import numpy as np\n",
    "from matplotlib import pyplot as plt\n",
    "import seaborn as sns\n",
    "import random "
   ]
  },
  {
   "cell_type": "code",
   "execution_count": 2,
   "metadata": {},
   "outputs": [],
   "source": [
    "#random data\n",
    "\"\"\"\n",
    "The random library will be used to generate random tweet data to analyze.\n",
    "\"\"\"\n",
    "categories = ['Food', 'Travel', 'Fashion', 'Fitness', 'Music', 'Culture', 'Family', 'Health']\n",
    "\n",
    "data = {'Date': pd.date_range('2021-01-01',periods=500), \n",
    "        'Category': [random.choice(categories) for _ in range(500)],\n",
    "        'Likes': np.random.randint(0, 10000, size=500)}"
   ]
  },
  {
   "cell_type": "code",
   "execution_count": 3,
   "metadata": {},
   "outputs": [
    {
     "data": {
      "text/html": [
       "<div>\n",
       "<style scoped>\n",
       "    .dataframe tbody tr th:only-of-type {\n",
       "        vertical-align: middle;\n",
       "    }\n",
       "\n",
       "    .dataframe tbody tr th {\n",
       "        vertical-align: top;\n",
       "    }\n",
       "\n",
       "    .dataframe thead th {\n",
       "        text-align: right;\n",
       "    }\n",
       "</style>\n",
       "<table border=\"1\" class=\"dataframe\">\n",
       "  <thead>\n",
       "    <tr style=\"text-align: right;\">\n",
       "      <th></th>\n",
       "      <th>Date</th>\n",
       "      <th>Category</th>\n",
       "      <th>Likes</th>\n",
       "    </tr>\n",
       "  </thead>\n",
       "  <tbody>\n",
       "    <tr>\n",
       "      <th>0</th>\n",
       "      <td>2021-01-01</td>\n",
       "      <td>Health</td>\n",
       "      <td>3584</td>\n",
       "    </tr>\n",
       "    <tr>\n",
       "      <th>1</th>\n",
       "      <td>2021-01-02</td>\n",
       "      <td>Culture</td>\n",
       "      <td>9646</td>\n",
       "    </tr>\n",
       "    <tr>\n",
       "      <th>2</th>\n",
       "      <td>2021-01-03</td>\n",
       "      <td>Music</td>\n",
       "      <td>2084</td>\n",
       "    </tr>\n",
       "    <tr>\n",
       "      <th>3</th>\n",
       "      <td>2021-01-04</td>\n",
       "      <td>Fitness</td>\n",
       "      <td>5160</td>\n",
       "    </tr>\n",
       "    <tr>\n",
       "      <th>4</th>\n",
       "      <td>2021-01-05</td>\n",
       "      <td>Fitness</td>\n",
       "      <td>7561</td>\n",
       "    </tr>\n",
       "  </tbody>\n",
       "</table>\n",
       "</div>"
      ],
      "text/plain": [
       "        Date Category  Likes\n",
       "0 2021-01-01   Health   3584\n",
       "1 2021-01-02  Culture   9646\n",
       "2 2021-01-03    Music   2084\n",
       "3 2021-01-04  Fitness   5160\n",
       "4 2021-01-05  Fitness   7561"
      ]
     },
     "execution_count": 3,
     "metadata": {},
     "output_type": "execute_result"
    }
   ],
   "source": [
    "#Load the data into a df\n",
    "df = pd.DataFrame(data)\n",
    "df.head()"
   ]
  },
  {
   "cell_type": "code",
   "execution_count": 4,
   "metadata": {},
   "outputs": [
    {
     "name": "stdout",
     "output_type": "stream",
     "text": [
      "<class 'pandas.core.frame.DataFrame'>\n",
      "RangeIndex: 500 entries, 0 to 499\n",
      "Data columns (total 3 columns):\n",
      " #   Column    Non-Null Count  Dtype         \n",
      "---  ------    --------------  -----         \n",
      " 0   Date      500 non-null    datetime64[ns]\n",
      " 1   Category  500 non-null    object        \n",
      " 2   Likes     500 non-null    int64         \n",
      "dtypes: datetime64[ns](1), int64(1), object(1)\n",
      "memory usage: 11.8+ KB\n"
     ]
    }
   ],
   "source": [
    "#df info\n",
    "df.info()"
   ]
  },
  {
   "cell_type": "code",
   "execution_count": 5,
   "metadata": {},
   "outputs": [
    {
     "data": {
      "text/html": [
       "<div>\n",
       "<style scoped>\n",
       "    .dataframe tbody tr th:only-of-type {\n",
       "        vertical-align: middle;\n",
       "    }\n",
       "\n",
       "    .dataframe tbody tr th {\n",
       "        vertical-align: top;\n",
       "    }\n",
       "\n",
       "    .dataframe thead th {\n",
       "        text-align: right;\n",
       "    }\n",
       "</style>\n",
       "<table border=\"1\" class=\"dataframe\">\n",
       "  <thead>\n",
       "    <tr style=\"text-align: right;\">\n",
       "      <th></th>\n",
       "      <th>Likes</th>\n",
       "    </tr>\n",
       "  </thead>\n",
       "  <tbody>\n",
       "    <tr>\n",
       "      <th>count</th>\n",
       "      <td>500.000000</td>\n",
       "    </tr>\n",
       "    <tr>\n",
       "      <th>mean</th>\n",
       "      <td>5034.904000</td>\n",
       "    </tr>\n",
       "    <tr>\n",
       "      <th>std</th>\n",
       "      <td>2836.067752</td>\n",
       "    </tr>\n",
       "    <tr>\n",
       "      <th>min</th>\n",
       "      <td>38.000000</td>\n",
       "    </tr>\n",
       "    <tr>\n",
       "      <th>25%</th>\n",
       "      <td>2757.750000</td>\n",
       "    </tr>\n",
       "    <tr>\n",
       "      <th>50%</th>\n",
       "      <td>4885.000000</td>\n",
       "    </tr>\n",
       "    <tr>\n",
       "      <th>75%</th>\n",
       "      <td>7480.250000</td>\n",
       "    </tr>\n",
       "    <tr>\n",
       "      <th>max</th>\n",
       "      <td>9991.000000</td>\n",
       "    </tr>\n",
       "  </tbody>\n",
       "</table>\n",
       "</div>"
      ],
      "text/plain": [
       "             Likes\n",
       "count   500.000000\n",
       "mean   5034.904000\n",
       "std    2836.067752\n",
       "min      38.000000\n",
       "25%    2757.750000\n",
       "50%    4885.000000\n",
       "75%    7480.250000\n",
       "max    9991.000000"
      ]
     },
     "execution_count": 5,
     "metadata": {},
     "output_type": "execute_result"
    }
   ],
   "source": [
    "#df description\n",
    "df.describe()"
   ]
  },
  {
   "cell_type": "code",
   "execution_count": 6,
   "metadata": {},
   "outputs": [
    {
     "data": {
      "text/plain": [
       "Music      77\n",
       "Health     67\n",
       "Family     67\n",
       "Travel     59\n",
       "Culture    58\n",
       "Food       58\n",
       "Fashion    58\n",
       "Fitness    56\n",
       "Name: Category, dtype: int64"
      ]
     },
     "execution_count": 6,
     "metadata": {},
     "output_type": "execute_result"
    }
   ],
   "source": [
    "#Count of each category\n",
    "df['Category'].value_counts()"
   ]
  },
  {
   "cell_type": "code",
   "execution_count": 24,
   "metadata": {},
   "outputs": [
    {
     "data": {
      "image/png": "[encoded data removed]",
      "text/plain": [
       "<Figure size 432x288 with 1 Axes>"
      ]
     },
     "metadata": {
      "needs_background": "light"
     },
     "output_type": "display_data"
    }
   ],
   "source": [
    "plt.hist(df['Likes'],\n",
    "         edgecolor='black',\n",
    "         rwidth=0.9,\n",
    "         color='mediumseagreen'\n",
    "         )\n",
    "plt.show()"
   ]
  },
  {
   "cell_type": "code",
   "execution_count": 7,
   "metadata": {},
   "outputs": [
    {
     "data": {
      "text/plain": [
       "Date        0\n",
       "Category    0\n",
       "Likes       0\n",
       "dtype: int64"
      ]
     },
     "execution_count": 7,
     "metadata": {},
     "output_type": "execute_result"
    }
   ],
   "source": [
    "#Null or NaN values\n",
    "df.isna().sum()"
   ]
  },
  {
   "cell_type": "code",
   "execution_count": 8,
   "metadata": {},
   "outputs": [
    {
     "data": {
      "text/plain": [
       "0"
      ]
     },
     "execution_count": 8,
     "metadata": {},
     "output_type": "execute_result"
    }
   ],
   "source": [
    "#duplicates\n",
    "df.duplicated().sum()"
   ]
  },
  {
   "cell_type": "code",
   "execution_count": 36,
   "metadata": {},
   "outputs": [
    {
     "data": {
      "image/png": "[encoded data removed]",
      "text/plain": [
       "<Figure size 432x288 with 1 Axes>"
      ]
     },
     "metadata": {
      "needs_background": "light"
     },
     "output_type": "display_data"
    }
   ],
   "source": [
    "#boxplot\n",
    "sns.boxplot(data=df,\n",
    "           x='Category',\n",
    "           y='Likes')\n",
    "plt.show()"
   ]
  },
  {
   "cell_type": "code",
   "execution_count": 20,
   "metadata": {},
   "outputs": [
    {
     "data": {
      "text/plain": [
       "5034.904"
      ]
     },
     "execution_count": 20,
     "metadata": {},
     "output_type": "execute_result"
    }
   ],
   "source": [
    "# mean metric of 'likes' category\n",
    "df['Likes'].mean()"
   ]
  },
  {
   "cell_type": "code",
   "execution_count": 39,
   "metadata": {},
   "outputs": [
    {
     "data": {
      "text/html": [
       "<div>\n",
       "<style scoped>\n",
       "    .dataframe tbody tr th:only-of-type {\n",
       "        vertical-align: middle;\n",
       "    }\n",
       "\n",
       "    .dataframe tbody tr th {\n",
       "        vertical-align: top;\n",
       "    }\n",
       "\n",
       "    .dataframe thead th {\n",
       "        text-align: right;\n",
       "    }\n",
       "</style>\n",
       "<table border=\"1\" class=\"dataframe\">\n",
       "  <thead>\n",
       "    <tr style=\"text-align: right;\">\n",
       "      <th></th>\n",
       "      <th>Category</th>\n",
       "      <th>Likes</th>\n",
       "    </tr>\n",
       "  </thead>\n",
       "  <tbody>\n",
       "    <tr>\n",
       "      <th>0</th>\n",
       "      <td>Culture</td>\n",
       "      <td>4919.551724</td>\n",
       "    </tr>\n",
       "    <tr>\n",
       "      <th>1</th>\n",
       "      <td>Family</td>\n",
       "      <td>5115.656716</td>\n",
       "    </tr>\n",
       "    <tr>\n",
       "      <th>2</th>\n",
       "      <td>Fashion</td>\n",
       "      <td>4895.534483</td>\n",
       "    </tr>\n",
       "    <tr>\n",
       "      <th>3</th>\n",
       "      <td>Fitness</td>\n",
       "      <td>5770.660714</td>\n",
       "    </tr>\n",
       "    <tr>\n",
       "      <th>4</th>\n",
       "      <td>Food</td>\n",
       "      <td>4632.810345</td>\n",
       "    </tr>\n",
       "    <tr>\n",
       "      <th>5</th>\n",
       "      <td>Health</td>\n",
       "      <td>5354.820896</td>\n",
       "    </tr>\n",
       "    <tr>\n",
       "      <th>6</th>\n",
       "      <td>Music</td>\n",
       "      <td>5094.857143</td>\n",
       "    </tr>\n",
       "    <tr>\n",
       "      <th>7</th>\n",
       "      <td>Travel</td>\n",
       "      <td>4449.000000</td>\n",
       "    </tr>\n",
       "  </tbody>\n",
       "</table>\n",
       "</div>"
      ],
      "text/plain": [
       "  Category        Likes\n",
       "0  Culture  4919.551724\n",
       "1   Family  5115.656716\n",
       "2  Fashion  4895.534483\n",
       "3  Fitness  5770.660714\n",
       "4     Food  4632.810345\n",
       "5   Health  5354.820896\n",
       "6    Music  5094.857143\n",
       "7   Travel  4449.000000"
      ]
     },
     "execution_count": 39,
     "metadata": {},
     "output_type": "execute_result"
    }
   ],
   "source": [
    "# mean metrics by caategories\n",
    "df.groupby(['Category']).mean()[['Likes']].reset_index()"
   ]
  },
  {
   "cell_type": "code",
   "execution_count": 22,
   "metadata": {},
   "outputs": [
    {
     "data": {
      "text/plain": [
       "Text(0.5, 1.0, 'mean distribution of likes by categories')"
      ]
     },
     "execution_count": 22,
     "metadata": {},
     "output_type": "execute_result"
    },
    {
     "data": {
      "image/png": "[encoded data removed]",
      "text/plain": [
       "<Figure size 432x288 with 1 Axes>"
      ]
     },
     "metadata": {
      "needs_background": "light"
     },
     "output_type": "display_data"
    }
   ],
   "source": [
    "sns.barplot(data=df,\n",
    "           x='Category',\n",
    "           y='Likes')\n",
    "plt.title('mean distribution of likes by categories')"
   ]
  },
  {
   "cell_type": "markdown",
   "metadata": {},
   "source": [
    "Time Series Analisis"
   ]
  },
  {
   "cell_type": "code",
   "execution_count": 25,
   "metadata": {},
   "outputs": [
    {
     "data": {
      "text/html": [
       "<div>\n",
       "<style scoped>\n",
       "    .dataframe tbody tr th:only-of-type {\n",
       "        vertical-align: middle;\n",
       "    }\n",
       "\n",
       "    .dataframe tbody tr th {\n",
       "        vertical-align: top;\n",
       "    }\n",
       "\n",
       "    .dataframe thead th {\n",
       "        text-align: right;\n",
       "    }\n",
       "</style>\n",
       "<table border=\"1\" class=\"dataframe\">\n",
       "  <thead>\n",
       "    <tr style=\"text-align: right;\">\n",
       "      <th></th>\n",
       "      <th>Date</th>\n",
       "      <th>Year</th>\n",
       "      <th>Month</th>\n",
       "      <th>Category</th>\n",
       "      <th>Likes</th>\n",
       "    </tr>\n",
       "  </thead>\n",
       "  <tbody>\n",
       "    <tr>\n",
       "      <th>0</th>\n",
       "      <td>2021-01-01</td>\n",
       "      <td>2021</td>\n",
       "      <td>Jan</td>\n",
       "      <td>Health</td>\n",
       "      <td>3584</td>\n",
       "    </tr>\n",
       "    <tr>\n",
       "      <th>1</th>\n",
       "      <td>2021-01-02</td>\n",
       "      <td>2021</td>\n",
       "      <td>Jan</td>\n",
       "      <td>Culture</td>\n",
       "      <td>9646</td>\n",
       "    </tr>\n",
       "    <tr>\n",
       "      <th>2</th>\n",
       "      <td>2021-01-03</td>\n",
       "      <td>2021</td>\n",
       "      <td>Jan</td>\n",
       "      <td>Music</td>\n",
       "      <td>2084</td>\n",
       "    </tr>\n",
       "    <tr>\n",
       "      <th>3</th>\n",
       "      <td>2021-01-04</td>\n",
       "      <td>2021</td>\n",
       "      <td>Jan</td>\n",
       "      <td>Fitness</td>\n",
       "      <td>5160</td>\n",
       "    </tr>\n",
       "    <tr>\n",
       "      <th>4</th>\n",
       "      <td>2021-01-05</td>\n",
       "      <td>2021</td>\n",
       "      <td>Jan</td>\n",
       "      <td>Fitness</td>\n",
       "      <td>7561</td>\n",
       "    </tr>\n",
       "  </tbody>\n",
       "</table>\n",
       "</div>"
      ],
      "text/plain": [
       "        Date  Year Month Category  Likes\n",
       "0 2021-01-01  2021   Jan   Health   3584\n",
       "1 2021-01-02  2021   Jan  Culture   9646\n",
       "2 2021-01-03  2021   Jan    Music   2084\n",
       "3 2021-01-04  2021   Jan  Fitness   5160\n",
       "4 2021-01-05  2021   Jan  Fitness   7561"
      ]
     },
     "execution_count": 25,
     "metadata": {},
     "output_type": "execute_result"
    }
   ],
   "source": [
    "#Add month and year column and reshape df\n",
    "import datetime\n",
    "df['Month'] = df['Date'].dt.month_name().str.slice(stop=3)\n",
    "df['Year'] = df['Date'].dt.year\n",
    "col_order = ['Date', 'Year', 'Month', 'Category', 'Likes']\n",
    "df = df[col_order]\n",
    "df.head()"
   ]
  },
  {
   "cell_type": "code",
   "execution_count": 26,
   "metadata": {},
   "outputs": [
    {
     "data": {
      "image/png": "[encoded data removed]",
      "text/plain": [
       "<Figure size 432x288 with 1 Axes>"
      ]
     },
     "metadata": {},
     "output_type": "display_data"
    }
   ],
   "source": [
    "#tweets count by year\n",
    "df_year = df['Year'].value_counts()\n",
    "label=['2021','2022']\n",
    "plt.pie(df_year,labels=label,autopct='%1.1f%%',startangle=90)\n",
    "plt.axis('equal')\n",
    "plt.show()"
   ]
  },
  {
   "cell_type": "code",
   "execution_count": 27,
   "metadata": {},
   "outputs": [
    {
     "data": {
      "text/plain": [
       "Text(0.5, 1.0, 'Dsitribution of likes by month in 2021')"
      ]
     },
     "execution_count": 27,
     "metadata": {},
     "output_type": "execute_result"
    },
    {
     "data": {
      "image/png": "[encoded data removed]",
      "text/plain": [
       "<Figure size 432x288 with 1 Axes>"
      ]
     },
     "metadata": {
      "needs_background": "light"
     },
     "output_type": "display_data"
    }
   ],
   "source": [
    "#tweets count by month\n",
    "months = [\n",
    "    \"Jan\", \"Feb\", \"Mar\", \"Apr\", \"May\", \"Jun\",\n",
    "    \"Jul\", \"Aug\", \"Sep\", \"Oct\", \"Nov\", \"Dec\"\n",
    "]\n",
    "df['Month'] = pd.Categorical(df['Month'], categories=months, ordered=True)\n",
    "sns.barplot(data=df[df['Year']==2021],\n",
    "           x='Month',\n",
    "           y='Likes')\n",
    "plt.title('Dsitribution of likes by month in 2021')"
   ]
  },
  {
   "cell_type": "code",
   "execution_count": 28,
   "metadata": {},
   "outputs": [
    {
     "data": {
      "text/plain": [
       "Text(0.5, 1.0, 'Dsitribution of likes by month in 2022')"
      ]
     },
     "execution_count": 28,
     "metadata": {},
     "output_type": "execute_result"
    },
    {
     "data": {
      "image/png": "[encoded data removed]",
      "text/plain": [
       "<Figure size 432x288 with 1 Axes>"
      ]
     },
     "metadata": {
      "needs_background": "light"
     },
     "output_type": "display_data"
    }
   ],
   "source": [
    "sns.barplot(data=df[df['Year']==2022],\n",
    "           x='Month',\n",
    "           y='Likes')\n",
    "plt.title('Dsitribution of likes by month in 2022')"
   ]
  },
  {
   "cell_type": "code",
   "execution_count": 32,
   "metadata": {},
   "outputs": [
    {
     "data": {
      "text/plain": [
       "DatetimeIndex([], dtype='datetime64[ns]', freq=None)"
      ]
     },
     "execution_count": 32,
     "metadata": {},
     "output_type": "execute_result"
    }
   ],
   "source": [
    "#Find missing dates by comparing all dates in 2021\n",
    "# to dates in the df\n",
    "date_range= pd.date_range(start='2021-01-01', end='2021-12-31')\n",
    "date_range.difference(df[df['Year']==2021]['Date'])"
   ]
  },
  {
   "cell_type": "code",
   "execution_count": 33,
   "metadata": {},
   "outputs": [
    {
     "data": {
      "text/plain": [
       "DatetimeIndex(['2022-05-16', '2022-05-17', '2022-05-18', '2022-05-19',\n",
       "               '2022-05-20', '2022-05-21', '2022-05-22', '2022-05-23',\n",
       "               '2022-05-24', '2022-05-25',\n",
       "               ...\n",
       "               '2022-12-22', '2022-12-23', '2022-12-24', '2022-12-25',\n",
       "               '2022-12-26', '2022-12-27', '2022-12-28', '2022-12-29',\n",
       "               '2022-12-30', '2022-12-31'],\n",
       "              dtype='datetime64[ns]', length=230, freq=None)"
      ]
     },
     "execution_count": 33,
     "metadata": {},
     "output_type": "execute_result"
    }
   ],
   "source": [
    "#Find missing dates by comparing all dates in 2022\n",
    "# to dates in the df\n",
    "date_range= pd.date_range(start='2022-01-01', end='2022-12-31')\n",
    "date_range.difference(df[df['Year']==2022]['Date'])"
   ]
  },
  {
   "cell_type": "code",
   "execution_count": 34,
   "metadata": {},
   "outputs": [
    {
     "data": {
      "text/html": [
       "<div>\n",
       "<style scoped>\n",
       "    .dataframe tbody tr th:only-of-type {\n",
       "        vertical-align: middle;\n",
       "    }\n",
       "\n",
       "    .dataframe tbody tr th {\n",
       "        vertical-align: top;\n",
       "    }\n",
       "\n",
       "    .dataframe thead th {\n",
       "        text-align: right;\n",
       "    }\n",
       "</style>\n",
       "<table border=\"1\" class=\"dataframe\">\n",
       "  <thead>\n",
       "    <tr style=\"text-align: right;\">\n",
       "      <th>Month</th>\n",
       "      <th>Jan</th>\n",
       "      <th>Feb</th>\n",
       "      <th>Mar</th>\n",
       "      <th>Apr</th>\n",
       "      <th>May</th>\n",
       "      <th>Jun</th>\n",
       "      <th>Jul</th>\n",
       "      <th>Aug</th>\n",
       "      <th>Sep</th>\n",
       "      <th>Oct</th>\n",
       "      <th>Nov</th>\n",
       "      <th>Dec</th>\n",
       "    </tr>\n",
       "    <tr>\n",
       "      <th>Year</th>\n",
       "      <th></th>\n",
       "      <th></th>\n",
       "      <th></th>\n",
       "      <th></th>\n",
       "      <th></th>\n",
       "      <th></th>\n",
       "      <th></th>\n",
       "      <th></th>\n",
       "      <th></th>\n",
       "      <th></th>\n",
       "      <th></th>\n",
       "      <th></th>\n",
       "    </tr>\n",
       "  </thead>\n",
       "  <tbody>\n",
       "    <tr>\n",
       "      <th>2021</th>\n",
       "      <td>4774.000000</td>\n",
       "      <td>5374.428571</td>\n",
       "      <td>4843.677419</td>\n",
       "      <td>5076.733333</td>\n",
       "      <td>5479.161290</td>\n",
       "      <td>4835.466667</td>\n",
       "      <td>4192.451613</td>\n",
       "      <td>4914.645161</td>\n",
       "      <td>5401.4</td>\n",
       "      <td>5754.387097</td>\n",
       "      <td>4643.833333</td>\n",
       "      <td>4998.322581</td>\n",
       "    </tr>\n",
       "    <tr>\n",
       "      <th>2022</th>\n",
       "      <td>5183.419355</td>\n",
       "      <td>4034.178571</td>\n",
       "      <td>5434.032258</td>\n",
       "      <td>5538.200000</td>\n",
       "      <td>5089.666667</td>\n",
       "      <td>NaN</td>\n",
       "      <td>NaN</td>\n",
       "      <td>NaN</td>\n",
       "      <td>NaN</td>\n",
       "      <td>NaN</td>\n",
       "      <td>NaN</td>\n",
       "      <td>NaN</td>\n",
       "    </tr>\n",
       "  </tbody>\n",
       "</table>\n",
       "</div>"
      ],
      "text/plain": [
       "Month          Jan          Feb          Mar          Apr          May  \\\n",
       "Year                                                                     \n",
       "2021   4774.000000  5374.428571  4843.677419  5076.733333  5479.161290   \n",
       "2022   5183.419355  4034.178571  5434.032258  5538.200000  5089.666667   \n",
       "\n",
       "Month          Jun          Jul          Aug     Sep          Oct  \\\n",
       "Year                                                                \n",
       "2021   4835.466667  4192.451613  4914.645161  5401.4  5754.387097   \n",
       "2022           NaN          NaN          NaN     NaN          NaN   \n",
       "\n",
       "Month          Nov          Dec  \n",
       "Year                             \n",
       "2021   4643.833333  4998.322581  \n",
       "2022           NaN          NaN  "
      ]
     },
     "execution_count": 34,
     "metadata": {},
     "output_type": "execute_result"
    }
   ],
   "source": [
    "#Number of likes per month and year\n",
    "df_by_month_year = df.pivot_table('Likes', 'Year', 'Month')\n",
    "df_by_month_year"
   ]
  },
  {
   "cell_type": "code",
   "execution_count": 35,
   "metadata": {},
   "outputs": [
    {
     "data": {
      "image/png": "[encoded data removed]",
      "text/plain": [
       "<Figure size 432x288 with 2 Axes>"
      ]
     },
     "metadata": {
      "needs_background": "light"
     },
     "output_type": "display_data"
    }
   ],
   "source": [
    "# Create the heatmap\n",
    "ax = sns.heatmap(df_by_month_year, cmap=\"YlGnBu\", annot=False)\n",
    "\n",
    "# Set the axis labels and title\n",
    "ax.set_xlabel(\"Month\")\n",
    "ax.set_ylabel(\"Year\")\n",
    "ax.set_title(\"Likes by Month and Year\")\n",
    "\n",
    "# Display the plot\n",
    "plt.show()"
   ]
  },
  {
   "cell_type": "code",
   "execution_count": 40,
   "metadata": {},
   "outputs": [
    {
     "data": {
      "text/html": [
       "<div>\n",
       "<style scoped>\n",
       "    .dataframe tbody tr th:only-of-type {\n",
       "        vertical-align: middle;\n",
       "    }\n",
       "\n",
       "    .dataframe tbody tr th {\n",
       "        vertical-align: top;\n",
       "    }\n",
       "\n",
       "    .dataframe thead th {\n",
       "        text-align: right;\n",
       "    }\n",
       "</style>\n",
       "<table border=\"1\" class=\"dataframe\">\n",
       "  <thead>\n",
       "    <tr style=\"text-align: right;\">\n",
       "      <th>Month</th>\n",
       "      <th>Jan</th>\n",
       "      <th>Feb</th>\n",
       "      <th>Mar</th>\n",
       "      <th>Apr</th>\n",
       "      <th>May</th>\n",
       "      <th>Jun</th>\n",
       "      <th>Jul</th>\n",
       "      <th>Aug</th>\n",
       "      <th>Sep</th>\n",
       "      <th>Oct</th>\n",
       "      <th>Nov</th>\n",
       "      <th>Dec</th>\n",
       "    </tr>\n",
       "    <tr>\n",
       "      <th>Category</th>\n",
       "      <th></th>\n",
       "      <th></th>\n",
       "      <th></th>\n",
       "      <th></th>\n",
       "      <th></th>\n",
       "      <th></th>\n",
       "      <th></th>\n",
       "      <th></th>\n",
       "      <th></th>\n",
       "      <th></th>\n",
       "      <th></th>\n",
       "      <th></th>\n",
       "    </tr>\n",
       "  </thead>\n",
       "  <tbody>\n",
       "    <tr>\n",
       "      <th>Culture</th>\n",
       "      <td>5675.25</td>\n",
       "      <td>7812.000000</td>\n",
       "      <td>4883.666667</td>\n",
       "      <td>3705.166667</td>\n",
       "      <td>5445.500000</td>\n",
       "      <td>6651.750000</td>\n",
       "      <td>2510.00</td>\n",
       "      <td>2991.50</td>\n",
       "      <td>4692.20</td>\n",
       "      <td>4688.600000</td>\n",
       "      <td>8294.000000</td>\n",
       "      <td>5031.714286</td>\n",
       "    </tr>\n",
       "    <tr>\n",
       "      <th>Family</th>\n",
       "      <td>5232.00</td>\n",
       "      <td>4065.600000</td>\n",
       "      <td>5398.500000</td>\n",
       "      <td>4319.000000</td>\n",
       "      <td>4369.500000</td>\n",
       "      <td>4339.000000</td>\n",
       "      <td>3994.00</td>\n",
       "      <td>7630.00</td>\n",
       "      <td>8610.00</td>\n",
       "      <td>5714.400000</td>\n",
       "      <td>5266.000000</td>\n",
       "      <td>5309.000000</td>\n",
       "    </tr>\n",
       "    <tr>\n",
       "      <th>Fashion</th>\n",
       "      <td>2091.00</td>\n",
       "      <td>3477.500000</td>\n",
       "      <td>2549.333333</td>\n",
       "      <td>2609.000000</td>\n",
       "      <td>4515.000000</td>\n",
       "      <td>5527.500000</td>\n",
       "      <td>7055.25</td>\n",
       "      <td>3406.75</td>\n",
       "      <td>8092.00</td>\n",
       "      <td>7003.600000</td>\n",
       "      <td>NaN</td>\n",
       "      <td>4454.500000</td>\n",
       "    </tr>\n",
       "    <tr>\n",
       "      <th>Fitness</th>\n",
       "      <td>5762.50</td>\n",
       "      <td>7922.750000</td>\n",
       "      <td>4803.750000</td>\n",
       "      <td>7562.500000</td>\n",
       "      <td>6799.400000</td>\n",
       "      <td>3502.750000</td>\n",
       "      <td>5172.00</td>\n",
       "      <td>6884.00</td>\n",
       "      <td>6764.00</td>\n",
       "      <td>6920.000000</td>\n",
       "      <td>3258.333333</td>\n",
       "      <td>6985.000000</td>\n",
       "    </tr>\n",
       "    <tr>\n",
       "      <th>Food</th>\n",
       "      <td>6351.80</td>\n",
       "      <td>7709.500000</td>\n",
       "      <td>5776.200000</td>\n",
       "      <td>5722.000000</td>\n",
       "      <td>4106.500000</td>\n",
       "      <td>3426.000000</td>\n",
       "      <td>2769.00</td>\n",
       "      <td>4110.00</td>\n",
       "      <td>2588.00</td>\n",
       "      <td>4547.000000</td>\n",
       "      <td>1346.500000</td>\n",
       "      <td>6572.250000</td>\n",
       "    </tr>\n",
       "    <tr>\n",
       "      <th>Health</th>\n",
       "      <td>5197.00</td>\n",
       "      <td>5460.400000</td>\n",
       "      <td>5666.200000</td>\n",
       "      <td>6267.000000</td>\n",
       "      <td>6308.166667</td>\n",
       "      <td>3779.333333</td>\n",
       "      <td>2972.00</td>\n",
       "      <td>5050.00</td>\n",
       "      <td>5785.75</td>\n",
       "      <td>7676.250000</td>\n",
       "      <td>4024.500000</td>\n",
       "      <td>4676.000000</td>\n",
       "    </tr>\n",
       "    <tr>\n",
       "      <th>Music</th>\n",
       "      <td>2995.25</td>\n",
       "      <td>4900.400000</td>\n",
       "      <td>6092.000000</td>\n",
       "      <td>5961.857143</td>\n",
       "      <td>4640.500000</td>\n",
       "      <td>5982.000000</td>\n",
       "      <td>4401.00</td>\n",
       "      <td>7170.50</td>\n",
       "      <td>6104.50</td>\n",
       "      <td>4715.333333</td>\n",
       "      <td>4611.000000</td>\n",
       "      <td>2909.000000</td>\n",
       "    </tr>\n",
       "    <tr>\n",
       "      <th>Travel</th>\n",
       "      <td>3945.25</td>\n",
       "      <td>2887.666667</td>\n",
       "      <td>2568.000000</td>\n",
       "      <td>416.500000</td>\n",
       "      <td>7119.000000</td>\n",
       "      <td>4180.333333</td>\n",
       "      <td>3863.00</td>\n",
       "      <td>3055.00</td>\n",
       "      <td>4240.50</td>\n",
       "      <td>5897.500000</td>\n",
       "      <td>5443.500000</td>\n",
       "      <td>3907.500000</td>\n",
       "    </tr>\n",
       "  </tbody>\n",
       "</table>\n",
       "</div>"
      ],
      "text/plain": [
       "Month         Jan          Feb          Mar          Apr          May  \\\n",
       "Category                                                                \n",
       "Culture   5675.25  7812.000000  4883.666667  3705.166667  5445.500000   \n",
       "Family    5232.00  4065.600000  5398.500000  4319.000000  4369.500000   \n",
       "Fashion   2091.00  3477.500000  2549.333333  2609.000000  4515.000000   \n",
       "Fitness   5762.50  7922.750000  4803.750000  7562.500000  6799.400000   \n",
       "Food      6351.80  7709.500000  5776.200000  5722.000000  4106.500000   \n",
       "Health    5197.00  5460.400000  5666.200000  6267.000000  6308.166667   \n",
       "Music     2995.25  4900.400000  6092.000000  5961.857143  4640.500000   \n",
       "Travel    3945.25  2887.666667  2568.000000   416.500000  7119.000000   \n",
       "\n",
       "Month             Jun      Jul      Aug      Sep          Oct          Nov  \\\n",
       "Category                                                                     \n",
       "Culture   6651.750000  2510.00  2991.50  4692.20  4688.600000  8294.000000   \n",
       "Family    4339.000000  3994.00  7630.00  8610.00  5714.400000  5266.000000   \n",
       "Fashion   5527.500000  7055.25  3406.75  8092.00  7003.600000          NaN   \n",
       "Fitness   3502.750000  5172.00  6884.00  6764.00  6920.000000  3258.333333   \n",
       "Food      3426.000000  2769.00  4110.00  2588.00  4547.000000  1346.500000   \n",
       "Health    3779.333333  2972.00  5050.00  5785.75  7676.250000  4024.500000   \n",
       "Music     5982.000000  4401.00  7170.50  6104.50  4715.333333  4611.000000   \n",
       "Travel    4180.333333  3863.00  3055.00  4240.50  5897.500000  5443.500000   \n",
       "\n",
       "Month             Dec  \n",
       "Category               \n",
       "Culture   5031.714286  \n",
       "Family    5309.000000  \n",
       "Fashion   4454.500000  \n",
       "Fitness   6985.000000  \n",
       "Food      6572.250000  \n",
       "Health    4676.000000  \n",
       "Music     2909.000000  \n",
       "Travel    3907.500000  "
      ]
     },
     "execution_count": 40,
     "metadata": {},
     "output_type": "execute_result"
    }
   ],
   "source": [
    "#Number of likes by category in 2021\n",
    "df_by_category_and_month = df[df['Year']==2021].pivot_table('Likes', 'Category', 'Month')\n",
    "df_by_category_and_month"
   ]
  },
  {
   "cell_type": "code",
   "execution_count": 41,
   "metadata": {},
   "outputs": [
    {
     "data": {
      "image/png": "[encoded data removed]",
      "text/plain": [
       "<Figure size 432x288 with 2 Axes>"
      ]
     },
     "metadata": {
      "needs_background": "light"
     },
     "output_type": "display_data"
    }
   ],
   "source": [
    "# Create the heatmap\n",
    "ax = sns.heatmap(df_by_category_and_month, cmap=\"YlGnBu\", annot=False)\n",
    "\n",
    "# Set the axis labels and title\n",
    "ax.set_xlabel(\"Month\")\n",
    "ax.set_ylabel(\"Category\")\n",
    "ax.set_title(\"Likes by Category in 2021\")\n",
    "\n",
    "# Display the plot\n",
    "plt.show()"
   ]
  },
  {
   "cell_type": "markdown",
   "metadata": {},
   "source": [
    "Revised Conclusions:\n",
    "\n",
    "Based on the exploratory data analysis performed, the following conclusions can be drawn:\n",
    "\n",
    "1.  The Tweets dataset spans the period from January 1, 2021, to May 15, 2022, and includes like counts across 8 categories (Culture, Fashion, Fitness, Health, Music, Family, Travel and Food).\n",
    "\n",
    "2.  The dataset is complete within its date range, with no missing dates or null values.\n",
    "\n",
    "3.  The data for 2022 is truncated, ending on May 15th. This incomplete year could pose challenges for forecasting or modeling.  Supplementing the dataset with additional data, if available, should be considered to address this limitation.\n",
    "\n",
    "4.  Approximately 73% of the observations in the dataset are from 2021, reflecting the shorter timeframe covered in 2022.\n",
    "\n",
    "5.  Music-related tweets represent over 15% of all entries.\n",
    "\n",
    "6.  \"Fitness\" is the category with the highest total like count, exceeding 6,000 likes. \"Health,\" \"Music,\" and \"Family\" each have over 5,500 likes, while all other categories has fewer than 5,000 likes. \n",
    "\n",
    "7.  October 2021 was the most active month overall, with a combined like count across all categories exceeding 5,500.\n",
    "\n",
    "8.  \"Family\" and \"Culture\" experienced peak like counts in September and October 2021, respectively, each surpassing 8,000 likes."
   ]
  }
 ],
 "metadata": {
  "kernelspec": {
   "display_name": "Python 3",
   "language": "python",
   "name": "python3"
  },
  "language_info": {
   "codemirror_mode": {
    "name": "ipython",
    "version": 3
   },
   "file_extension": ".py",
   "mimetype": "text/x-python",
   "name": "python",
   "nbconvert_exporter": "python",
   "pygments_lexer": "ipython3",
   "version": "3.7.6"
  }
 },
 "nbformat": 4,
 "nbformat_minor": 4
}
